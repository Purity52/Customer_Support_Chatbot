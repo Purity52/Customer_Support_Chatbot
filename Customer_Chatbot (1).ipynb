{
  "nbformat": 4,
  "nbformat_minor": 0,
  "metadata": {
    "colab": {
      "provenance": []
    },
    "kernelspec": {
      "name": "python3",
      "display_name": "Python 3"
    },
    "language_info": {
      "name": "python"
    }
  },
  "cells": [
    {
      "cell_type": "code",
      "execution_count": 47,
      "metadata": {
        "colab": {
          "base_uri": "https://localhost:8080/"
        },
        "id": "EzyNmgZkA3O0",
        "outputId": "0f4d9105-ca72-434b-edbe-8a223de64d71"
      },
      "outputs": [
        {
          "output_type": "stream",
          "name": "stdout",
          "text": [
            "Requirement already satisfied: langgraph in /usr/local/lib/python3.12/dist-packages (0.6.8)\n",
            "Requirement already satisfied: langchain_groq in /usr/local/lib/python3.12/dist-packages (0.3.8)\n",
            "Requirement already satisfied: langchain in /usr/local/lib/python3.12/dist-packages (0.3.27)\n",
            "Requirement already satisfied: langchain-community in /usr/local/lib/python3.12/dist-packages (0.3.30)\n",
            "Requirement already satisfied: faiss-cpu in /usr/local/lib/python3.12/dist-packages (1.12.0)\n",
            "Requirement already satisfied: pypdf in /usr/local/lib/python3.12/dist-packages (6.1.1)\n",
            "Requirement already satisfied: langchain-core>=0.1 in /usr/local/lib/python3.12/dist-packages (from langgraph) (0.3.76)\n",
            "Requirement already satisfied: langgraph-checkpoint<3.0.0,>=2.1.0 in /usr/local/lib/python3.12/dist-packages (from langgraph) (2.1.1)\n",
            "Requirement already satisfied: langgraph-prebuilt<0.7.0,>=0.6.0 in /usr/local/lib/python3.12/dist-packages (from langgraph) (0.6.4)\n",
            "Requirement already satisfied: langgraph-sdk<0.3.0,>=0.2.2 in /usr/local/lib/python3.12/dist-packages (from langgraph) (0.2.9)\n",
            "Requirement already satisfied: pydantic>=2.7.4 in /usr/local/lib/python3.12/dist-packages (from langgraph) (2.11.9)\n",
            "Requirement already satisfied: xxhash>=3.5.0 in /usr/local/lib/python3.12/dist-packages (from langgraph) (3.5.0)\n",
            "Requirement already satisfied: groq<1,>=0.30.0 in /usr/local/lib/python3.12/dist-packages (from langchain_groq) (0.32.0)\n",
            "Requirement already satisfied: langchain-text-splitters<1.0.0,>=0.3.9 in /usr/local/lib/python3.12/dist-packages (from langchain) (0.3.11)\n",
            "Requirement already satisfied: langsmith>=0.1.17 in /usr/local/lib/python3.12/dist-packages (from langchain) (0.4.28)\n",
            "Requirement already satisfied: SQLAlchemy<3,>=1.4 in /usr/local/lib/python3.12/dist-packages (from langchain) (2.0.43)\n",
            "Requirement already satisfied: requests<3,>=2 in /usr/local/lib/python3.12/dist-packages (from langchain) (2.32.5)\n",
            "Requirement already satisfied: PyYAML>=5.3 in /usr/local/lib/python3.12/dist-packages (from langchain) (6.0.2)\n",
            "Requirement already satisfied: aiohttp<4.0.0,>=3.8.3 in /usr/local/lib/python3.12/dist-packages (from langchain-community) (3.12.15)\n",
            "Requirement already satisfied: tenacity!=8.4.0,<10.0.0,>=8.1.0 in /usr/local/lib/python3.12/dist-packages (from langchain-community) (8.5.0)\n",
            "Requirement already satisfied: dataclasses-json<0.7.0,>=0.6.7 in /usr/local/lib/python3.12/dist-packages (from langchain-community) (0.6.7)\n",
            "Requirement already satisfied: pydantic-settings<3.0.0,>=2.10.1 in /usr/local/lib/python3.12/dist-packages (from langchain-community) (2.10.1)\n",
            "Requirement already satisfied: httpx-sse<1.0.0,>=0.4.0 in /usr/local/lib/python3.12/dist-packages (from langchain-community) (0.4.1)\n",
            "Requirement already satisfied: numpy>=1.26.2 in /usr/local/lib/python3.12/dist-packages (from langchain-community) (2.0.2)\n",
            "Requirement already satisfied: packaging in /usr/local/lib/python3.12/dist-packages (from faiss-cpu) (25.0)\n",
            "Requirement already satisfied: aiohappyeyeballs>=2.5.0 in /usr/local/lib/python3.12/dist-packages (from aiohttp<4.0.0,>=3.8.3->langchain-community) (2.6.1)\n",
            "Requirement already satisfied: aiosignal>=1.4.0 in /usr/local/lib/python3.12/dist-packages (from aiohttp<4.0.0,>=3.8.3->langchain-community) (1.4.0)\n",
            "Requirement already satisfied: attrs>=17.3.0 in /usr/local/lib/python3.12/dist-packages (from aiohttp<4.0.0,>=3.8.3->langchain-community) (25.3.0)\n",
            "Requirement already satisfied: frozenlist>=1.1.1 in /usr/local/lib/python3.12/dist-packages (from aiohttp<4.0.0,>=3.8.3->langchain-community) (1.7.0)\n",
            "Requirement already satisfied: multidict<7.0,>=4.5 in /usr/local/lib/python3.12/dist-packages (from aiohttp<4.0.0,>=3.8.3->langchain-community) (6.6.4)\n",
            "Requirement already satisfied: propcache>=0.2.0 in /usr/local/lib/python3.12/dist-packages (from aiohttp<4.0.0,>=3.8.3->langchain-community) (0.3.2)\n",
            "Requirement already satisfied: yarl<2.0,>=1.17.0 in /usr/local/lib/python3.12/dist-packages (from aiohttp<4.0.0,>=3.8.3->langchain-community) (1.20.1)\n",
            "Requirement already satisfied: marshmallow<4.0.0,>=3.18.0 in /usr/local/lib/python3.12/dist-packages (from dataclasses-json<0.7.0,>=0.6.7->langchain-community) (3.26.1)\n",
            "Requirement already satisfied: typing-inspect<1,>=0.4.0 in /usr/local/lib/python3.12/dist-packages (from dataclasses-json<0.7.0,>=0.6.7->langchain-community) (0.9.0)\n",
            "Requirement already satisfied: anyio<5,>=3.5.0 in /usr/local/lib/python3.12/dist-packages (from groq<1,>=0.30.0->langchain_groq) (4.10.0)\n",
            "Requirement already satisfied: distro<2,>=1.7.0 in /usr/local/lib/python3.12/dist-packages (from groq<1,>=0.30.0->langchain_groq) (1.9.0)\n",
            "Requirement already satisfied: httpx<1,>=0.23.0 in /usr/local/lib/python3.12/dist-packages (from groq<1,>=0.30.0->langchain_groq) (0.28.1)\n",
            "Requirement already satisfied: sniffio in /usr/local/lib/python3.12/dist-packages (from groq<1,>=0.30.0->langchain_groq) (1.3.1)\n",
            "Requirement already satisfied: typing-extensions<5,>=4.10 in /usr/local/lib/python3.12/dist-packages (from groq<1,>=0.30.0->langchain_groq) (4.15.0)\n",
            "Requirement already satisfied: jsonpatch<2.0,>=1.33 in /usr/local/lib/python3.12/dist-packages (from langchain-core>=0.1->langgraph) (1.33)\n",
            "Requirement already satisfied: ormsgpack>=1.10.0 in /usr/local/lib/python3.12/dist-packages (from langgraph-checkpoint<3.0.0,>=2.1.0->langgraph) (1.10.0)\n",
            "Requirement already satisfied: orjson>=3.10.1 in /usr/local/lib/python3.12/dist-packages (from langgraph-sdk<0.3.0,>=0.2.2->langgraph) (3.11.3)\n",
            "Requirement already satisfied: requests-toolbelt>=1.0.0 in /usr/local/lib/python3.12/dist-packages (from langsmith>=0.1.17->langchain) (1.0.0)\n",
            "Requirement already satisfied: zstandard>=0.23.0 in /usr/local/lib/python3.12/dist-packages (from langsmith>=0.1.17->langchain) (0.25.0)\n",
            "Requirement already satisfied: annotated-types>=0.6.0 in /usr/local/lib/python3.12/dist-packages (from pydantic>=2.7.4->langgraph) (0.7.0)\n",
            "Requirement already satisfied: pydantic-core==2.33.2 in /usr/local/lib/python3.12/dist-packages (from pydantic>=2.7.4->langgraph) (2.33.2)\n",
            "Requirement already satisfied: typing-inspection>=0.4.0 in /usr/local/lib/python3.12/dist-packages (from pydantic>=2.7.4->langgraph) (0.4.1)\n",
            "Requirement already satisfied: python-dotenv>=0.21.0 in /usr/local/lib/python3.12/dist-packages (from pydantic-settings<3.0.0,>=2.10.1->langchain-community) (1.1.1)\n",
            "Requirement already satisfied: charset_normalizer<4,>=2 in /usr/local/lib/python3.12/dist-packages (from requests<3,>=2->langchain) (3.4.3)\n",
            "Requirement already satisfied: idna<4,>=2.5 in /usr/local/lib/python3.12/dist-packages (from requests<3,>=2->langchain) (3.10)\n",
            "Requirement already satisfied: urllib3<3,>=1.21.1 in /usr/local/lib/python3.12/dist-packages (from requests<3,>=2->langchain) (2.5.0)\n",
            "Requirement already satisfied: certifi>=2017.4.17 in /usr/local/lib/python3.12/dist-packages (from requests<3,>=2->langchain) (2025.8.3)\n",
            "Requirement already satisfied: greenlet>=1 in /usr/local/lib/python3.12/dist-packages (from SQLAlchemy<3,>=1.4->langchain) (3.2.4)\n",
            "Requirement already satisfied: httpcore==1.* in /usr/local/lib/python3.12/dist-packages (from httpx<1,>=0.23.0->groq<1,>=0.30.0->langchain_groq) (1.0.9)\n",
            "Requirement already satisfied: h11>=0.16 in /usr/local/lib/python3.12/dist-packages (from httpcore==1.*->httpx<1,>=0.23.0->groq<1,>=0.30.0->langchain_groq) (0.16.0)\n",
            "Requirement already satisfied: jsonpointer>=1.9 in /usr/local/lib/python3.12/dist-packages (from jsonpatch<2.0,>=1.33->langchain-core>=0.1->langgraph) (3.0.0)\n",
            "Requirement already satisfied: mypy-extensions>=0.3.0 in /usr/local/lib/python3.12/dist-packages (from typing-inspect<1,>=0.4.0->dataclasses-json<0.7.0,>=0.6.7->langchain-community) (1.1.0)\n"
          ]
        }
      ],
      "source": [
        "# Step 1: Install Libraries\n",
        "!pip install langgraph langchain_groq langchain langchain-community faiss-cpu pypdf"
      ]
    },
    {
      "cell_type": "code",
      "source": [
        "import os\n",
        "groq_api_key = os.getenv(\"GROQ_API_KEY\")\n"
      ],
      "metadata": {
        "id": "bRoBuzUmY5W_"
      },
      "execution_count": 48,
      "outputs": []
    },
    {
      "cell_type": "code",
      "source": [
        "# Step 2: Import libraries\n",
        "\n",
        "import os\n",
        "from typing import TypedDict, Dict\n",
        "from langgraph.graph import StateGraph, END\n",
        "from langchain_core.prompts import ChatPromptTemplate\n",
        "from langchain_groq import ChatGroq"
      ],
      "metadata": {
        "id": "XGpFYyTQJR3e"
      },
      "execution_count": 49,
      "outputs": []
    },
    {
      "cell_type": "code",
      "source": [
        "# Step 3: Setup LLM\n",
        "\n",
        "from google.colab import userdata\n",
        "groq_api_key=userdata.get(\"GROQ_API_KEY\")"
      ],
      "metadata": {
        "id": "Nr8Youk3Gkwo"
      },
      "execution_count": 50,
      "outputs": []
    },
    {
      "cell_type": "code",
      "source": [
        "# Test the LLM\n",
        "\n",
        "from langchain_core.prompts import ChatPromptTemplate\n",
        "\n",
        "prompt = ChatPromptTemplate.from_template(\"Say hello in a friendly way.\")\n",
        "chain = prompt | llm\n",
        "print(chain.invoke({}).content)\n"
      ],
      "metadata": {
        "colab": {
          "base_uri": "https://localhost:8080/"
        },
        "id": "O3vg2i1SGteC",
        "outputId": "8ea40ec2-1033-40d9-9cae-3b2591608c57"
      },
      "execution_count": 51,
      "outputs": [
        {
          "output_type": "stream",
          "name": "stdout",
          "text": [
            "Hello there, how are you doing today? It's great to connect with you.\n"
          ]
        }
      ]
    },
    {
      "cell_type": "code",
      "source": [
        "# Step 4: Define Chatbot State\n",
        "\n",
        "from typing import TypedDict\n",
        "\n",
        "class State(TypedDict):\n",
        "    query: str\n",
        "    category: str\n",
        "    sentiment: str\n",
        "    response: str"
      ],
      "metadata": {
        "id": "t1hXBTWLG_aj"
      },
      "execution_count": 52,
      "outputs": []
    },
    {
      "cell_type": "code",
      "source": [
        "# Step 5: Helper to run prompts through the LLM\n",
        "# ----------------------------\n",
        "def run_prompt(template: str, query: str) -> str:\n",
        "    prompt = ChatPromptTemplate.from_template(template)\n",
        "    chain = prompt | llm\n",
        "    # .invoke returns an object with .content — we strip whitespace\n",
        "    return chain.invoke({\"query\": query}).content.strip()\n"
      ],
      "metadata": {
        "id": "e9HGvrF5Ml6K"
      },
      "execution_count": 53,
      "outputs": []
    },
    {
      "cell_type": "code",
      "source": [
        "# Step 6: categorization (returns descriptive category text)\n",
        "# ----------------------------\n",
        "def categorize(state: State) -> Dict[str, str]:\n",
        "    template = (\n",
        "        \"Categorize this customer query into one of these categories: \"\n",
        "        \"Billing, Technical, or General. \"\n",
        "        \"Include the category word clearly in your answer and a short explanation.\\n\\n\"\n",
        "        \"Query: {query}\"\n",
        "    )\n",
        "    category_text = run_prompt(template, state[\"query\"])\n",
        "    return {\"category\": category_text}\n"
      ],
      "metadata": {
        "id": "hmjs59XOMuAW"
      },
      "execution_count": 54,
      "outputs": []
    },
    {
      "cell_type": "code",
      "source": [
        "# Step 7: sentiment analysis (returns descriptive sentiment text)\n",
        "# ----------------------------\n",
        "def analyze_sentiment(state: State) -> Dict[str, str]:\n",
        "    template = (\n",
        "        \"Analyze the sentiment of this customer query. Your answer should contain one of: \"\n",
        "        \"Positive, Neutral, or Negative, and you may add a brief reason.\\n\\n\"\n",
        "        \"Query: {query}\"\n",
        "    )\n",
        "    sentiment_text = run_prompt(template, state[\"query\"])\n",
        "    return {\"sentiment\": sentiment_text}\n"
      ],
      "metadata": {
        "id": "7N0GriDNM36E"
      },
      "execution_count": 55,
      "outputs": []
    },
    {
      "cell_type": "code",
      "source": [
        "# Step 8: Routing: reads descriptive outputs and decides next handler\n",
        "\n",
        "def route_query(state: State) -> str:\n",
        "    sent = state[\"sentiment\"].lower()\n",
        "    cat = state[\"category\"].lower()\n",
        "\n",
        "    # Escalate if sentiment indicates negative\n",
        "    if \"negative\" in sent:\n",
        "        return \"escalate\"\n",
        "\n",
        "    # Otherwise decide by category keywords\n",
        "    if \"technical\" in cat:\n",
        "        return \"technical\"\n",
        "    if \"billing\" in cat:\n",
        "        return \"billing\"\n",
        "    # default fallback\n",
        "    return \"general\"\n",
        "\n",
        "\n",
        "# Handlers: produce final responses\n",
        "\n",
        "def handle_technical(state: State) -> Dict[str, str]:\n",
        "    template = \"You are a friendly technical support agent. Provide a clear troubleshooting reply for: {query}\"\n",
        "    resp = run_prompt(template, state[\"query\"])\n",
        "    return {\"response\": resp}\n",
        "\n",
        "def handle_billing(state: State) -> Dict[str, str]:\n",
        "    template = \"You are a friendly billing support agent. Provide a clear billing-related reply for: {query}\"\n",
        "    resp = run_prompt(template, state[\"query\"])\n",
        "    return {\"response\": resp}\n",
        "\n",
        "def handle_general(state: State) -> Dict[str, str]:\n",
        "    template = \"You are a helpful support agent. Provide a concise general reply for: {query}\"\n",
        "    resp = run_prompt(template, state[\"query\"])\n",
        "    return {\"response\": resp}\n",
        "\n",
        "def escalate(state: State) -> Dict[str, str]:\n",
        "    # static escalation message (you can replace contact details)\n",
        "    return {\"response\": \"This query has been escalated to a human agent due to negative sentiment. A human will contact you shortly.\"}\n",
        "\n",
        "\n",
        "# Orchestrator: runs the full flow using State\n",
        "\n",
        "def process_query(query: str) -> State:\n",
        "    state: State = {\"query\": query, \"category\": \"\", \"sentiment\": \"\", \"response\": \"\"}\n",
        "\n",
        "    # categorization\n",
        "    state.update(categorize(state))\n",
        "\n",
        "    # sentiment\n",
        "    state.update(analyze_sentiment(state))\n",
        "\n",
        "    # routing\n",
        "    route = route_query(state)\n",
        "\n",
        "    # handle according to route\n",
        "    if route == \"escalate\":\n",
        "        state.update(escalate(state))\n",
        "    elif route == \"technical\":\n",
        "        state.update(handle_technical(state))\n",
        "    elif route == \"billing\":\n",
        "        state.update(handle_billing(state))\n",
        "    else:\n",
        "        state.update(handle_general(state))\n",
        "\n",
        "    return state"
      ],
      "metadata": {
        "id": "QOll20ZINmH0"
      },
      "execution_count": 56,
      "outputs": []
    },
    {
      "cell_type": "code",
      "source": [
        "# Test the chatbot with sample queries\n",
        "# ----------------------------\n",
        "if __name__ == \"__main__\":\n",
        "    examples = [\n",
        "        \"I was double charged on my last bill.\",\n",
        "        \"My internet is not working properly and keeps disconnecting.\",\n",
        "        \"What are your business hours and where are you located?\",\n",
        "        \"Your service is so frustrating, nothing works and I'm angry!\"\n",
        "    ]\n",
        "\n",
        "    for q in examples:\n",
        "        result = process_query(q)\n",
        "        print(\"User Query:\", result[\"query\"])\n",
        "        print(\"Category (LLM):\", result[\"category\"])\n",
        "        print(\"Sentiment (LLM):\", result[\"sentiment\"])\n",
        "        print(\"Bot Response:\", result[\"response\"])\n",
        "        print(\"-\" * 70)\n"
      ],
      "metadata": {
        "colab": {
          "base_uri": "https://localhost:8080/"
        },
        "id": "fRkHjf5lN2hq",
        "outputId": "df224fb4-03a6-4f72-8e80-3ae3d9f14593"
      },
      "execution_count": 57,
      "outputs": [
        {
          "output_type": "stream",
          "name": "stdout",
          "text": [
            "User Query: I was double charged on my last bill.\n",
            "Category (LLM): **Billing**: The customer query is about a billing issue, specifically a double charge on their last bill.\n",
            "Sentiment (LLM): Negative\n",
            "\n",
            "The customer's query expresses a problem they're experiencing (double charging) which is likely to cause frustration and annoyance, leading to a negative sentiment.\n",
            "Bot Response: This query has been escalated to a human agent due to negative sentiment. A human will contact you shortly.\n",
            "----------------------------------------------------------------------\n",
            "User Query: My internet is not working properly and keeps disconnecting.\n",
            "Category (LLM): **Technical**\n",
            "\n",
            "This query is categorized as Technical because it pertains to a specific issue with a service (internet connectivity) rather than billing or general information. The customer is seeking assistance with resolving a technical problem with their internet connection.\n",
            "Sentiment (LLM): Negative\n",
            "\n",
            "The customer is expressing a problem with their internet service, which indicates a negative sentiment. The use of \"not working properly\" and \"keeps disconnecting\" implies frustration and dissatisfaction with the service.\n",
            "Bot Response: This query has been escalated to a human agent due to negative sentiment. A human will contact you shortly.\n",
            "----------------------------------------------------------------------\n",
            "User Query: What are your business hours and where are you located?\n",
            "Category (LLM): **General**\n",
            "\n",
            "This query is categorized as General because the customer is inquiring about the company's operational information, including business hours and location. This type of question does not relate to a specific product or service, nor does it pertain to technical issues or billing concerns.\n",
            "Sentiment (LLM): Neutral\n",
            "\n",
            "The query is a simple and direct question, asking for basic information about the business's operating hours and location. There is no indication of any satisfaction, dissatisfaction, or emotional tone, which is typical of neutral or factual questions.\n",
            "Bot Response: I'd be happy to help you with that.\n",
            "\n",
            "**Business Hours:**\n",
            "Our technical support team is available to assist you 24 hours a day, 7 days a week, 365 days a year. You can reach us through our website, phone, email, or live chat.\n",
            "\n",
            "**Location:**\n",
            "We are a global company with a remote workforce, which allows us to provide support to customers worldwide. Our team members are located in various locations across the globe, including the United States, Canada, Europe, Australia, and Asia.\n",
            "\n",
            "**Support Channels:**\n",
            "You can contact us through the following channels:\n",
            "\n",
            "- Phone: +1-800-XXX-XXXX (toll-free in the US and Canada)\n",
            "- Email: [support@company.com](mailto:support@company.com)\n",
            "- Live Chat: Available on our website\n",
            "- Website: Submit a support ticket or check our knowledge base for self-help resources\n",
            "\n",
            "**Time Zone:** Since our team is distributed across the globe, we have representatives available in various time zones. If you're unsure of the best time to reach us, feel free to check our website for our current support hours and time zones.\n",
            "\n",
            "If you have any other questions or need assistance with a specific issue, please don't hesitate to reach out to us. We're here to help!\n",
            "----------------------------------------------------------------------\n",
            "User Query: Your service is so frustrating, nothing works and I'm angry!\n",
            "Category (LLM): **General**\n",
            "\n",
            "This query is categorized as General because the customer is expressing a strong emotion (frustration and anger) about their overall experience with the service, rather than specifically pointing out a billing issue or a technical problem. The customer's concern is more about the user experience and the service as a whole.\n",
            "Sentiment (LLM): Negative. The customer uses strong words like \"frustrating\" and \"angry\" to express their dissatisfaction with the service, indicating a strong negative sentiment.\n",
            "Bot Response: This query has been escalated to a human agent due to negative sentiment. A human will contact you shortly.\n",
            "----------------------------------------------------------------------\n"
          ]
        }
      ]
    }
  ]
}